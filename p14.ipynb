{
  "nbformat": 4,
  "nbformat_minor": 0,
  "metadata": {
    "colab": {
      "name": "p14.ipynb",
      "provenance": [],
      "authorship_tag": "ABX9TyNmdlwneOQqYVPVp30sbPXA",
      "include_colab_link": true
    },
    "kernelspec": {
      "name": "python3",
      "display_name": "Python 3"
    },
    "language_info": {
      "name": "python"
    }
  },
  "cells": [
    {
      "cell_type": "markdown",
      "metadata": {
        "id": "view-in-github",
        "colab_type": "text"
      },
      "source": [
        "<a href=\"https://colab.research.google.com/github/tiaraannisaa/Tugas-Algoritma-Pemrograman/blob/main/p14.ipynb\" target=\"_parent\"><img src=\"https://colab.research.google.com/assets/colab-badge.svg\" alt=\"Open In Colab\"/></a>"
      ]
    },
    {
      "cell_type": "code",
      "execution_count": 1,
      "metadata": {
        "colab": {
          "base_uri": "https://localhost:8080/"
        },
        "id": "uctPVwvOjGjt",
        "outputId": "6973c459-09dd-4529-e24d-ecf54ef06e37"
      },
      "outputs": [
        {
          "output_type": "stream",
          "name": "stdout",
          "text": [
            "Masukkan nama anda = saya\n",
            "masukkan asal anda = malili\n",
            "Nama anda =  saya\n",
            "Kota anda =  malili\n"
          ]
        }
      ],
      "source": [
        "def datadiri(nama, kota):\n",
        "  print('Nama anda = ', nama)\n",
        "  print('Kota anda = ', kota)\n",
        "nama=input('Masukkan nama anda = ')\n",
        "kota=input('masukkan asal anda = ')\n",
        "datadiri(nama,kota)"
      ]
    },
    {
      "cell_type": "code",
      "source": [
        "def perkalian(bil1,bil2):\n",
        "  hasil=bil1*bil2\n",
        "  return hasil\n",
        "bil1=int(input('input bil1 = '))\n",
        "bil2=int(input('input bil2 = '))\n",
        "print('hasil perkalian',bil1,'dengan',bil2, 'adalah', perkalian(bil1,bil2))"
      ],
      "metadata": {
        "colab": {
          "base_uri": "https://localhost:8080/"
        },
        "id": "POyGrtGtmqPU",
        "outputId": "c61689ba-04b5-4cf4-dec1-3e5edfc6e6f3"
      },
      "execution_count": 3,
      "outputs": [
        {
          "output_type": "stream",
          "name": "stdout",
          "text": [
            "input bil1 = 4\n",
            "input bil2 = 5\n",
            "hasil perkalian 4 dengan 5 adalah 20\n"
          ]
        }
      ]
    },
    {
      "cell_type": "code",
      "source": [
        "def contohlokal():\n",
        "  A=99\n",
        "  A\n",
        "  print('%d adal dalam fungsi contohlokal' %(A))\n",
        "A=55\n",
        "A\n",
        "print('%d adal dalam fungsi contohglobal' %(A))\n",
        "contohlokal()"
      ],
      "metadata": {
        "colab": {
          "base_uri": "https://localhost:8080/"
        },
        "id": "Ne5eVh2Iphmv",
        "outputId": "99f1207e-e911-4eb8-b219-73ef185689db"
      },
      "execution_count": 7,
      "outputs": [
        {
          "output_type": "stream",
          "name": "stdout",
          "text": [
            "55 adal dalam fungsi contohglobal\n",
            "99 adal dalam fungsi contohlokal\n"
          ]
        }
      ]
    },
    {
      "cell_type": "code",
      "source": [
        "def bilangan(x,y):\n",
        "  print('dalam fungsi')\n",
        "  print('sebelum proses')\n",
        "  print('Nilai x', x)\n",
        "  print('nilai y', y)\n",
        "  z = x\n",
        "  x = y\n",
        "  y = z\n",
        "  print('setelah proses')\n",
        "  print('nilai x', x)\n",
        "  print('nilai y', y)\n",
        "x = 12\n",
        "y = 3\n",
        "print('sebelum memanggil fungsi, x  bernilai', x)\n",
        "print('sebelum memanggil fungsi, y bernilai', y)\n",
        "bilangan(x,y)\n",
        "print('setelah memanggil fungsi, x  bernilai', x)\n",
        "print('setelah memanggil fungsi, y bernilai', y)"
      ],
      "metadata": {
        "colab": {
          "base_uri": "https://localhost:8080/"
        },
        "id": "IPw4IRZLsO66",
        "outputId": "dec77109-0610-4577-8262-37fd9eed734d"
      },
      "execution_count": 9,
      "outputs": [
        {
          "output_type": "stream",
          "name": "stdout",
          "text": [
            "sebelum memanggil fungsi, x  bernilai 12\n",
            "sebelum memanggil fungsi, y bernilai 3\n",
            "dalam fungsi\n",
            "sebelum proses\n",
            "Nilai x 12\n",
            "nilai y 3\n",
            "setelah proses\n",
            "nilai x 3\n",
            "nilai y 12\n",
            "setelah memanggil fungsi, x  bernilai 12\n",
            "setelah memanggil fungsi, y bernilai 3\n"
          ]
        }
      ]
    },
    {
      "cell_type": "code",
      "source": [
        "import statistics\n",
        "data=[5,1]\n",
        "x=statistics.mean(data)\n",
        "print('mean is : ', x)"
      ],
      "metadata": {
        "colab": {
          "base_uri": "https://localhost:8080/"
        },
        "id": "oKxdWpkjs7R1",
        "outputId": "3a9359ab-0cef-4a7e-f4f4-a7f4264af43c"
      },
      "execution_count": 11,
      "outputs": [
        {
          "output_type": "stream",
          "name": "stdout",
          "text": [
            "mean is :  3\n"
          ]
        }
      ]
    }
  ]
}