{
  "nbformat": 4,
  "nbformat_minor": 0,
  "metadata": {
    "colab": {
      "name": "Tugas_Pertemuan 13.ipynb",
      "provenance": [],
      "authorship_tag": "ABX9TyNaah2NIAwegtdobBCOigdv",
      "include_colab_link": true
    },
    "kernelspec": {
      "name": "python3",
      "display_name": "Python 3"
    },
    "language_info": {
      "name": "python"
    }
  },
  "cells": [
    {
      "cell_type": "markdown",
      "metadata": {
        "id": "view-in-github",
        "colab_type": "text"
      },
      "source": [
        "<a href=\"https://colab.research.google.com/github/tiaraannisaa/Tugas-Algoritma-Pemrograman/blob/main/Tugas_Pertemuan_13.ipynb\" target=\"_parent\"><img src=\"https://colab.research.google.com/assets/colab-badge.svg\" alt=\"Open In Colab\"/></a>"
      ]
    },
    {
      "cell_type": "markdown",
      "source": [
        "Nomor 1 Buatlah program untuk menghitung total pembelian N buah barang dengan harga dan \n",
        "jumlah tertentu"
      ],
      "metadata": {
        "id": "mbmSlGgnsEhF"
      }
    },
    {
      "cell_type": "code",
      "source": [
        "Nama_barang = input('Nama barang = ')\n",
        "Harga_barang = int(input('Harga barang = '))\n",
        "Jumlah_barang = int(input('Jumlah barang = '))\n",
        "\n",
        "Total_harga_barang = Harga_barang * Jumlah_barang\n",
        "print('Total harga barang adalah Rp %d' %(Total_harga_barang))"
      ],
      "metadata": {
        "colab": {
          "base_uri": "https://localhost:8080/"
        },
        "id": "Kz7dz0gAsKDM",
        "outputId": "78a0c13e-03ff-47e7-b7a7-b0636d45167c"
      },
      "execution_count": null,
      "outputs": [
        {
          "output_type": "stream",
          "name": "stdout",
          "text": [
            "Nama barang = Kopi\n",
            "Harga barang = 5000\n",
            "Jumlah barang = 5\n",
            "Total harga barang adalah Rp 25000\n"
          ]
        }
      ]
    },
    {
      "cell_type": "markdown",
      "source": [
        "Nomor 2 Buatlah program untuk menghitung banyaknya bilangan genap ataupun bilangan ganjil \n",
        "dari N buah bilangan yang diinput secara acak"
      ],
      "metadata": {
        "id": "xgb-P9eksLME"
      }
    },
    {
      "cell_type": "code",
      "source": [
        "awal = int(input('set nilai awal = '))\n",
        "akhir = int(input('set nilai akhir = '))\n",
        "count=0\n",
        "summ=0\n",
        "print('Bilangan antara %d dan %d' %(awal,akhir))\n",
        "\n",
        "for i in range (awal,akhir+1):\n",
        "  if i % 2 == 0 :\n",
        "    count=count+1\n",
        "  else: \n",
        "    summ=summ+1\n",
        "print('Jumlah bilangan ganjil = ', summ)\n",
        "print('Jumlah bilangan genap = ', count)\n",
        "\n"
      ],
      "metadata": {
        "colab": {
          "base_uri": "https://localhost:8080/"
        },
        "id": "DnAlduyHsPl7",
        "outputId": "76d0f617-161b-4e6d-ed68-bd8a19d7a22d"
      },
      "execution_count": 62,
      "outputs": [
        {
          "output_type": "stream",
          "name": "stdout",
          "text": [
            "set nilai awal = 1\n",
            "set nilai akhir = 9\n",
            "Bilangan antara 1 dan 9\n",
            "Jumlah bilangan ganjil =  5\n",
            "Jumlah bilangan genap =  4\n"
          ]
        }
      ]
    },
    {
      "cell_type": "markdown",
      "source": [
        "Nomor 3\n",
        " Buatlah program untuk menampilkan bilangan kelipatan 3 diantara bilangan tertentu"
      ],
      "metadata": {
        "id": "LJTQudBksP9E"
      }
    },
    {
      "cell_type": "code",
      "source": [
        "awal = int(input('set nilai awal = '))\n",
        "akhir = int(input('set nilai akhir = '))\n",
        "print('Bilangan antara %d dan %d' %(awal,akhir))\n",
        "\n",
        "for i in range (awal,akhir+1,):\n",
        "  if i % 3 == 0:\n",
        "    print (i, end= \" \")"
      ],
      "metadata": {
        "colab": {
          "base_uri": "https://localhost:8080/"
        },
        "id": "jyzE828msRU8",
        "outputId": "f77afba0-3510-4124-d071-86b89d4d9061"
      },
      "execution_count": 23,
      "outputs": [
        {
          "output_type": "stream",
          "name": "stdout",
          "text": [
            "set nilai awal = 1\n",
            "set nilai akhir = 10\n",
            "Bilangan antara 1 dan 10\n",
            "3 6 9 "
          ]
        }
      ]
    },
    {
      "cell_type": "markdown",
      "source": [
        "Nomor 4\n",
        "Buatlah program untuk menampilkan bentuk bilangan seperti berikut ini:\n",
        "Bilangan : <input suatu bilangan (misal:5)>\n",
        "1\n",
        "12\n",
        "123\n",
        "1234\n",
        "12345"
      ],
      "metadata": {
        "id": "Rt1eiN1GsRpT"
      }
    },
    {
      "cell_type": "code",
      "source": [
        "t = ' '\n",
        "\n",
        "for i in range(1,5+1):\n",
        "     t += str(i) + ' '\n",
        "     print(t)\n"
      ],
      "metadata": {
        "colab": {
          "base_uri": "https://localhost:8080/"
        },
        "id": "Y9xoAiApsUQ4",
        "outputId": "59b0bd03-fb60-4216-b8be-7766a32b0a5b"
      },
      "execution_count": 44,
      "outputs": [
        {
          "output_type": "stream",
          "name": "stdout",
          "text": [
            " 1 \n",
            " 1 2 \n",
            " 1 2 3 \n",
            " 1 2 3 4 \n",
            " 1 2 3 4 5 \n"
          ]
        }
      ]
    },
    {
      "cell_type": "markdown",
      "source": [
        "Nomor 5\n",
        "Buatlah program untuk menghitung dan menampilkan bentuk berikut ini:\n",
        "------------------------------------------------------------------------------------------\n",
        "No. Nama Mhs N.Tugas N.Kuis N.UTS N.UAS NilaiAkhir\n",
        "-----------------------------------------------------------------------------------------\n",
        "1 \n",
        "2"
      ],
      "metadata": {
        "id": "2vmP5Gb0sUpd"
      }
    },
    {
      "cell_type": "code",
      "source": [
        "list_No=[]\n",
        "list_NamaMhs=[]\n",
        "list_NTugas=[any]\n",
        "list_NKuis=[]\n",
        "list_NUTS=[]\n",
        "list_NUAS=[]\n",
        "list_NilaiAkhir=[]\n",
        "\n",
        "ulang=2\n",
        "for i in range(ulang) :\n",
        "      print(\"data ke - \" + str(i+1))\n",
        "      list_No.append(int(input('masukkan no = ')))\n",
        "\n",
        "print(\"---------------------------------------------------------------------------------------\")\n",
        "print(\"No. Nama Mhs     N.Tugas    N.Kuis     N.UTS     N.UAS     NilaiAkhir\")\n",
        "print(\"---------------------------------------------------------------------------------------\")\n",
        "\n",
        "for i in range(ulang) :\n",
        "      print('%s \\t' %(list_No[i]))"
      ],
      "metadata": {
        "id": "IEgsqL-KsWCv",
        "colab": {
          "base_uri": "https://localhost:8080/"
        },
        "outputId": "b3ea9a53-4a20-47a5-cdbe-5dfcbe27134d"
      },
      "execution_count": 61,
      "outputs": [
        {
          "output_type": "stream",
          "name": "stdout",
          "text": [
            "data ke - 1\n",
            "masukkan no = 1\n",
            "data ke - 2\n",
            "masukkan no = 2\n",
            "---------------------------------------------------------------------------------------\n",
            "No. Nama Mhs     N.Tugas    N.Kuis     N.UTS     N.UAS     NilaiAkhir\n",
            "---------------------------------------------------------------------------------------\n",
            "1 \t\n",
            "2 \t\n"
          ]
        }
      ]
    },
    {
      "cell_type": "markdown",
      "source": [
        "Penjumlahan matrix"
      ],
      "metadata": {
        "id": "YvfmnfgCsWOV"
      }
    },
    {
      "cell_type": "code",
      "source": [
        "a = [\n",
        "    [9, 7],\n",
        "    [2, 4],\n",
        "]\n",
        "b = [\n",
        "    [5, 5],\n",
        "    [1, 3],\n",
        "]\n",
        "\n",
        "\n",
        "for x in range(0, len(a)):\n",
        "  for y in range(0, len(a[0])):\n",
        "        print(a[x][y] + b[x][y], end='  '),\n",
        "  print"
      ],
      "metadata": {
        "colab": {
          "base_uri": "https://localhost:8080/"
        },
        "id": "tfhzi4TeLZ3q",
        "outputId": "3708ffba-102d-41d5-a818-02647ebff32f"
      },
      "execution_count": 24,
      "outputs": [
        {
          "output_type": "stream",
          "name": "stdout",
          "text": [
            "14  12  3  7  "
          ]
        }
      ]
    }
  ]
}